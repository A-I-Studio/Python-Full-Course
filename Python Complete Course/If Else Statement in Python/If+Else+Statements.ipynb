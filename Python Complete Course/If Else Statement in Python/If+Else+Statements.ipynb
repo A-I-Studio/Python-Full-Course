{
 "cells": [
  {
   "cell_type": "code",
   "execution_count": 23,
   "metadata": {},
   "outputs": [],
   "source": [
    "#************Welcome to AI Studio by Shahzaib************#\n",
    "\n",
    "#This tutorial is about a brief overview of If else statement\n",
    "\n",
    "#To learn more about Python, its usage in MLOps and related fields follow my youtube chanel.\n",
    "\n",
    "#******https://www.youtube.com/channel/UCDjhZqUukWedbSbl0stU2Gg*****#\n",
    "\n",
    "#******My LinkedIn Page: https://www.linkedin.com/in/zaibhamid/*******#\n",
    "\n",
    "#****** Let's Begin ******#"
   ]
  },
  {
   "cell_type": "code",
   "execution_count": 24,
   "metadata": {},
   "outputs": [
    {
     "name": "stdout",
     "output_type": "stream",
     "text": [
      "15 :is less then: 16\n"
     ]
    }
   ],
   "source": [
    "#Simple If Statement\n",
    "\n",
    "a = 15\n",
    "b = 16\n",
    "if a < b:\n",
    "    print(a, \":is less than:\",b)"
   ]
  },
  {
   "cell_type": "code",
   "execution_count": 25,
   "metadata": {},
   "outputs": [
    {
     "name": "stdout",
     "output_type": "stream",
     "text": [
      "10 is less then 11\n"
     ]
    }
   ],
   "source": [
    "#Simple if with other condition:\n",
    "\n",
    "a=10\n",
    "b=11\n",
    "if a<b:\n",
    "    print(a,\"is less than\",b)"
   ]
  },
  {
   "cell_type": "code",
   "execution_count": 26,
   "metadata": {},
   "outputs": [
    {
     "name": "stdout",
     "output_type": "stream",
     "text": [
      "15 a is less then b 16\n"
     ]
    }
   ],
   "source": [
    "#Simple if else statement:\n",
    "\n",
    "a = 15\n",
    "b = 16\n",
    "if a > b:\n",
    "    print(a, \":is more than:\",b)\n",
    "else:\n",
    "    print(a,\"a is less than b\",b)"
   ]
  },
  {
   "cell_type": "code",
   "execution_count": 32,
   "metadata": {},
   "outputs": [
    {
     "name": "stdout",
     "output_type": "stream",
     "text": [
      "35 is less than  45\n"
     ]
    }
   ],
   "source": [
    "#Simple if-elsif-else condition\n",
    "\n",
    "a = 35\n",
    "b = 45\n",
    "if a < b:\n",
    "    print(a,\"is less than \",b)\n",
    "elif a == b:\n",
    "    print(a,\"is equal to\",b)\n",
    "elif a > b + 10:\n",
    "    print(a,\"is greater than\",b,\"by\",10)\n",
    "else:\n",
    "    print(\"e is greater than f\")"
   ]
  },
  {
   "cell_type": "code",
   "execution_count": 35,
   "metadata": {},
   "outputs": [
    {
     "name": "stdout",
     "output_type": "stream",
     "text": [
      "7 is less than 8\n"
     ]
    }
   ],
   "source": [
    "#another case of if-else statement\n",
    "\n",
    "a = 7\n",
    "b = 8\n",
    "if a < b:\n",
    "    print(a,\"is less than\",b)\n",
    "else:\n",
    "    if a == b:\n",
    "        print(a,\"is equal to\",b)\n",
    "    else:\n",
    "        print(a,\"is greater than\",b)"
   ]
  },
  {
   "cell_type": "code",
   "execution_count": 36,
   "metadata": {},
   "outputs": [
    {
     "name": "stdout",
     "output_type": "stream",
     "text": [
      "Enter a number: 35\n",
      "Positive number\n"
     ]
    }
   ],
   "source": [
    "#Example-1: Python Program to Check if a Number is Positive, Negative or 0\n",
    "#Case-1: Simple If-else\n",
    "\n",
    "num = float(input(\"Enter a number: \"))\n",
    "if num > 0:\n",
    "   print(\"Positive number\")\n",
    "elif num == 0:\n",
    "   print(\"Zero\")\n",
    "else:\n",
    "   print(\"Negative number\")"
   ]
  },
  {
   "cell_type": "code",
   "execution_count": 38,
   "metadata": {},
   "outputs": [
    {
     "name": "stdout",
     "output_type": "stream",
     "text": [
      "Enter a number: -15\n",
      "Negative number\n"
     ]
    }
   ],
   "source": [
    "#Example-1: Python Program to Check if a Number is Positive, Negative or 0\n",
    "#Case-2: Using Nested-If\n",
    "\n",
    "num = float(input(\"Enter a number: \"))\n",
    "if num >= 0:\n",
    "   if num == 0:\n",
    "       print(\"Zero\")\n",
    "   else:\n",
    "       print(\"Positive number\")\n",
    "else:\n",
    "   print(\"Negative number\")"
   ]
  },
  {
   "cell_type": "code",
   "execution_count": 39,
   "metadata": {},
   "outputs": [
    {
     "name": "stdout",
     "output_type": "stream",
     "text": [
      "Enter a number: 35\n",
      "35 is Odd\n"
     ]
    }
   ],
   "source": [
    "#Example-2: Python program to check if the input number is odd or even.\n",
    "\n",
    "num = int(input(\"Enter a number: \"))\n",
    "if (num % 2) == 0:\n",
    "   print(\"{0} is Even\".format(num))\n",
    "else:\n",
    "   print(\"{0} is Odd\".format(num))"
   ]
  },
  {
   "cell_type": "code",
   "execution_count": 42,
   "metadata": {},
   "outputs": [
    {
     "name": "stdout",
     "output_type": "stream",
     "text": [
      "Enter a Year: 1996\n",
      "1996 is a leap year\n"
     ]
    }
   ],
   "source": [
    "#Example-3: Python program to check if year is a leap year or not\n",
    "\n",
    "\n",
    "year = int(input(\"Enter a Year: \"))\n",
    "\n",
    "# To get year (integer input) from the user\n",
    "# year = int(input(\"Enter a year: \"))\n",
    "\n",
    "# divided by 100 means century year (ending with 00)\n",
    "# century year divided by 400 is leap year\n",
    "if (year % 400 == 0) and (year % 100 == 0):\n",
    "    print(\"{0} is a leap year\".format(year))\n",
    "\n",
    "# not divided by 100 means not a century year\n",
    "# year divided by 4 is a leap year\n",
    "elif (year % 4 ==0) and (year % 100 != 0):\n",
    "    print(\"{0} is a leap year\".format(year))\n",
    "\n",
    "# if not divided by both 400 (century year) and 4 (not century year)\n",
    "# year is not leap year\n",
    "else:\n",
    "    print(\"{0} is not a leap year\".format(year))\n"
   ]
  },
  {
   "cell_type": "code",
   "execution_count": null,
   "metadata": {},
   "outputs": [],
   "source": [
    "#Your Assignment\n",
    "\n",
    "#Write a Python program to find the factorial of a number provided by the user.\n",
    "\n",
    "\n",
    "#I will upload the solution to this problem on my Github\n",
    "\n",
    "#****************************Follow Me***********************#\n",
    "\n",
    "#******https://www.youtube.com/channel/UCDjhZqUukWedbSbl0stU2Gg*****#\n",
    "\n",
    "#******My LinkedIn Page: https://www.linkedin.com/in/zaibhamid/*******#"
   ]
  }
 ],
 "metadata": {
  "kernelspec": {
   "display_name": "Python 3 (ipykernel)",
   "language": "python",
   "name": "python3"
  },
  "language_info": {
   "codemirror_mode": {
    "name": "ipython",
    "version": 3
   },
   "file_extension": ".py",
   "mimetype": "text/x-python",
   "name": "python",
   "nbconvert_exporter": "python",
   "pygments_lexer": "ipython3",
   "version": "3.10.4"
  }
 },
 "nbformat": 4,
 "nbformat_minor": 2
}
