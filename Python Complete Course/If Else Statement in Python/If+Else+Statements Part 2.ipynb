{
 "cells": [
  {
   "cell_type": "code",
   "execution_count": 23,
   "metadata": {},
   "outputs": [],
   "source": [
    "#************Welcome to AI Studio by Shahzaib************#\n",
    "\n",
    "#This tutorial is about a brief overview of If else statement\n",
    "\n",
    "#To learn more about Python, its usage in Machine Learning, Data Science, MLOps and related fields follow my youtube channel.\n",
    "\n",
    "#******https://www.youtube.com/channel/UCDjhZqUukWedbSbl0stU2Gg*****#\n",
    "#******My LinkedIn Page: https://www.linkedin.com/in/zaibhamid/*******#\n",
    "\n",
    "#****** Let's Begin ******#\n"
   ]
  },
  {
   "cell_type": "code",
   "execution_count": null,
   "metadata": {},
   "outputs": [],
   "source": [
    "#Last Tutorial Learning:\n",
    "a = 15\n",
    "b = 16\n",
    "if a > b:\n",
    "    print(a, \":is more than:\",b)\n",
    "else:\n",
    "    print(a,\"a is less than b\",b)"
   ]
  },
  {
   "cell_type": "code",
   "execution_count": null,
   "metadata": {},
   "outputs": [],
   "source": [
    "#Simple if-elsif-else condition\n",
    "\n",
    "a = 35\n",
    "b = 45\n",
    "if a < b:\n",
    "    print(a,\"is less than \",b)\n",
    "elif a == b:\n",
    "    print(a,\"is equal to\",b)\n",
    "elif a > b + 10:\n",
    "    print(a,\"is greater than\",b,\"by\",10)\n",
    "else:\n",
    "    print(\"e is greater than f\")"
   ]
  },
  {
   "cell_type": "code",
   "execution_count": null,
   "metadata": {},
   "outputs": [],
   "source": [
    "#Example-1: Python Program to Check if a Number is Positive, Negative or 0\n",
    "#Case-1: Simple If-else\n",
    "\n",
    "num = float(input(\"Enter a number: \"))\n",
    "if num > 0:\n",
    "   print(\"Positive number\")\n",
    "elif num == 0:\n",
    "   print(\"Zero\")\n",
    "else:\n",
    "   print(\"Negative number\")"
   ]
  },
  {
   "cell_type": "code",
   "execution_count": null,
   "metadata": {},
   "outputs": [],
   "source": []
  },
  {
   "cell_type": "code",
   "execution_count": null,
   "metadata": {},
   "outputs": [],
   "source": []
  },
  {
   "cell_type": "code",
   "execution_count": null,
   "metadata": {},
   "outputs": [],
   "source": [
    "#Nested if-else statement\n",
    "\n",
    "a = 7\n",
    "b = 8\n",
    "if a < b:\n",
    "    print(a,\"is less than\",b)\n",
    "else:\n",
    "    if a == b:\n",
    "        print(a,\"is equal to\",b)\n",
    "    else:\n",
    "        print(a,\"is greater than\",b)"
   ]
  },
  {
   "cell_type": "code",
   "execution_count": null,
   "metadata": {},
   "outputs": [],
   "source": []
  },
  {
   "cell_type": "code",
   "execution_count": null,
   "metadata": {},
   "outputs": [],
   "source": []
  },
  {
   "cell_type": "code",
   "execution_count": null,
   "metadata": {},
   "outputs": [],
   "source": []
  },
  {
   "cell_type": "code",
   "execution_count": null,
   "metadata": {},
   "outputs": [],
   "source": [
    "#Example-1: Python Program to Check if a Number is Positive, Negative or 0\n",
    "#Case-2: Using Nested-If\n",
    "\n",
    "num = float(input(\"Enter a number: \"))\n",
    "if num >= 0:\n",
    "   if num == 0:\n",
    "       print(\"Zero\")\n",
    "   else:\n",
    "       print(\"Positive number\")\n",
    "else:\n",
    "   print(\"Negative number\")"
   ]
  },
  {
   "cell_type": "code",
   "execution_count": null,
   "metadata": {},
   "outputs": [],
   "source": []
  },
  {
   "cell_type": "code",
   "execution_count": null,
   "metadata": {},
   "outputs": [],
   "source": [
    "#Example-3: Python program to check if year is a leap year or not\n",
    "\n",
    "\n",
    "year = int(input(\"Enter a Year: \"))\n",
    "\n",
    "# To get year (integer input) from the user\n",
    "# year = int(input(\"Enter a year: \"))\n",
    "\n",
    "# divided by 100 means century year (ending with 00)\n",
    "# century year divided by 400 is leap year\n",
    "if (year % 400 == 0) and (year % 100 == 0):\n",
    "    print(\"{0} is a leap year\".format(year))\n",
    "\n",
    "# not divided by 100 means not a century year\n",
    "# year divided by 4 is a leap year\n",
    "elif (year % 4 ==0) and (year % 100 != 0):\n",
    "    print(\"{0} is a leap year\".format(year))\n",
    "\n",
    "# if not divided by both 400 (century year) and 4 (not century year)\n",
    "# year is not leap year\n",
    "else:\n",
    "    print(\"{0} is not a leap year\".format(year))\n"
   ]
  },
  {
   "cell_type": "code",
   "execution_count": null,
   "metadata": {},
   "outputs": [],
   "source": [
    "#Your Assignment\n",
    "\n",
    "#Write a Python program to find the factorial of a number provided by the user.\n",
    "\n",
    "\n",
    "#I will upload the solution to this problem on my Github\n",
    "\n",
    "#****************************Follow Me***********************#\n",
    "\n",
    "#******https://www.youtube.com/channel/UCDjhZqUukWedbSbl0stU2Gg*****#\n",
    "\n",
    "#******My LinkedIn Page: https://www.linkedin.com/in/zaibhamid/*******#"
   ]
  }
 ],
 "metadata": {
  "kernelspec": {
   "display_name": "Python 3 (ipykernel)",
   "language": "python",
   "name": "python3"
  },
  "language_info": {
   "codemirror_mode": {
    "name": "ipython",
    "version": 3
   },
   "file_extension": ".py",
   "mimetype": "text/x-python",
   "name": "python",
   "nbconvert_exporter": "python",
   "pygments_lexer": "ipython3",
   "version": "3.10.4"
  }
 },
 "nbformat": 4,
 "nbformat_minor": 4
}
