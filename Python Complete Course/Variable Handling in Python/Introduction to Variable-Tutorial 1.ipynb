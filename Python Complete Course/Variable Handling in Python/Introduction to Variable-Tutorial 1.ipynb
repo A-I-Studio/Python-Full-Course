{
 "cells": [
  {
   "cell_type": "code",
   "execution_count": 92,
   "metadata": {},
   "outputs": [],
   "source": [
    "#************Welcome to AI Studio by Shahzaib************#\n",
    "\n",
    "#This tutorial is about a brief overview of Variables and A short Example for the better understanding of variables.\n",
    "\n",
    "#To learn more about Python, its usage in MLOps and related fields follow my youtube chanel.\n",
    "\n",
    "#******https://www.youtube.com/channel/UCDjhZqUukWedbSbl0stU2Gg*****#\n",
    "\n",
    "#******My LinkedIn Page: https://www.linkedin.com/in/zaibhamid/*******#\n",
    "\n",
    "#****** Let's Begin ******#"
   ]
  },
  {
   "cell_type": "code",
   "execution_count": 93,
   "metadata": {},
   "outputs": [
    {
     "name": "stdout",
     "output_type": "stream",
     "text": [
      "This is my first try!\n"
     ]
    }
   ],
   "source": [
    "#Simply Printing in python\n",
    "\n",
    "print(\"This is my first try!\")"
   ]
  },
  {
   "cell_type": "code",
   "execution_count": 94,
   "metadata": {},
   "outputs": [
    {
     "name": "stdout",
     "output_type": "stream",
     "text": [
      "Show the string\n"
     ]
    }
   ],
   "source": [
    "#let's try again this string\n",
    "\n",
    "print('Show the string')"
   ]
  },
  {
   "cell_type": "code",
   "execution_count": 95,
   "metadata": {},
   "outputs": [
    {
     "name": "stdout",
     "output_type": "stream",
     "text": [
      "32\n",
      "45 45\n",
      "45 45 Hello\n",
      "['45 45']\n"
     ]
    }
   ],
   "source": [
    "#we can print numbers as\n",
    "\n",
    "print(32)\n",
    "\n",
    "#printing two numbers\n",
    "\n",
    "print(45,45)\n",
    "\n",
    "#printing numbers with string\n",
    "\n",
    "print(45,45,'Hello')\n",
    "\n",
    "#print integers as string\n",
    "print(['45 45'])"
   ]
  },
  {
   "cell_type": "code",
   "execution_count": 96,
   "metadata": {},
   "outputs": [],
   "source": [
    "#Assigning a Int to the variable\n",
    "\n",
    "a = 1"
   ]
  },
  {
   "cell_type": "code",
   "execution_count": 97,
   "metadata": {},
   "outputs": [
    {
     "name": "stdout",
     "output_type": "stream",
     "text": [
      "1\n"
     ]
    }
   ],
   "source": [
    "print(a)"
   ]
  },
  {
   "cell_type": "code",
   "execution_count": 98,
   "metadata": {},
   "outputs": [],
   "source": [
    "#arithmatic Operations using variables\n",
    "\n",
    "a = 2\n",
    "b = 3\n",
    "add= 2+3\n",
    "sub=3-1\n",
    "mul=2*3"
   ]
  },
  {
   "cell_type": "code",
   "execution_count": 99,
   "metadata": {},
   "outputs": [
    {
     "name": "stdout",
     "output_type": "stream",
     "text": [
      "2\n",
      "3\n",
      "2 3\n",
      "5\n",
      "2\n",
      "6\n",
      "5 2 6\n"
     ]
    }
   ],
   "source": [
    "#printing in different aspects\n",
    "print(a)\n",
    "print(b)\n",
    "print(a,b)\n",
    "print(add)\n",
    "print(sub)\n",
    "print(mul)\n",
    "print(add,sub,mul)"
   ]
  },
  {
   "cell_type": "code",
   "execution_count": 100,
   "metadata": {},
   "outputs": [],
   "source": [
    "#Assigning String 'str' to a variable\n",
    "\n",
    "c = \"You can do it\""
   ]
  },
  {
   "cell_type": "code",
   "execution_count": 101,
   "metadata": {},
   "outputs": [
    {
     "name": "stdout",
     "output_type": "stream",
     "text": [
      "You can do it\n"
     ]
    }
   ],
   "source": [
    "print(c)"
   ]
  },
  {
   "cell_type": "code",
   "execution_count": 102,
   "metadata": {},
   "outputs": [],
   "source": [
    "#First Approach"
   ]
  },
  {
   "cell_type": "code",
   "execution_count": 103,
   "metadata": {},
   "outputs": [],
   "source": [
    "v1 = \"first string\"\n",
    "v2 = \"second string\""
   ]
  },
  {
   "cell_type": "code",
   "execution_count": 104,
   "metadata": {},
   "outputs": [],
   "source": [
    "temp = v1\n",
    "v1 = v2\n",
    "v2 = temp"
   ]
  },
  {
   "cell_type": "code",
   "execution_count": 105,
   "metadata": {},
   "outputs": [
    {
     "name": "stdout",
     "output_type": "stream",
     "text": [
      "second string\n"
     ]
    }
   ],
   "source": [
    "print(v1)\n"
   ]
  },
  {
   "cell_type": "code",
   "execution_count": 106,
   "metadata": {},
   "outputs": [
    {
     "name": "stdout",
     "output_type": "stream",
     "text": [
      "first string\n"
     ]
    }
   ],
   "source": [
    "print(v2)"
   ]
  },
  {
   "cell_type": "code",
   "execution_count": 107,
   "metadata": {},
   "outputs": [],
   "source": [
    "#Second Approach"
   ]
  },
  {
   "cell_type": "code",
   "execution_count": 108,
   "metadata": {},
   "outputs": [],
   "source": [
    "v1 = \"First Variable\"\n",
    "v2 = \"Second Variable\""
   ]
  },
  {
   "cell_type": "code",
   "execution_count": 109,
   "metadata": {},
   "outputs": [],
   "source": [
    "# Swapping of two variables\n",
    "# without using third variable\n",
    "v1, v2 = v2, v1"
   ]
  },
  {
   "cell_type": "code",
   "execution_count": 110,
   "metadata": {},
   "outputs": [
    {
     "name": "stdout",
     "output_type": "stream",
     "text": [
      "Value of v1: Second Variable\n",
      "Value of v2: First Variable\n"
     ]
    }
   ],
   "source": [
    "print(\"Value of v1:\", v1)\n",
    "print(\"Value of v2:\", v2)"
   ]
  },
  {
   "cell_type": "code",
   "execution_count": 111,
   "metadata": {},
   "outputs": [],
   "source": [
    "#Third Approach to swap variables by using Boolean Logic"
   ]
  },
  {
   "cell_type": "code",
   "execution_count": 112,
   "metadata": {},
   "outputs": [],
   "source": [
    "v1=100\n",
    "v2=200"
   ]
  },
  {
   "cell_type": "code",
   "execution_count": 113,
   "metadata": {},
   "outputs": [],
   "source": [
    "v1 = v1 ^ v2\n",
    "v2 = v1 ^ v2\n",
    "v1 = v1 ^ v2"
   ]
  },
  {
   "cell_type": "code",
   "execution_count": 114,
   "metadata": {},
   "outputs": [
    {
     "name": "stdout",
     "output_type": "stream",
     "text": [
      "Value of v1: 200\n",
      "Value of v2: 100\n"
     ]
    }
   ],
   "source": [
    "print(\"Value of v1:\", v1)\n",
    "print(\"Value of v2:\", v2)"
   ]
  },
  {
   "cell_type": "code",
   "execution_count": 115,
   "metadata": {},
   "outputs": [],
   "source": [
    "#Your Assignment\n",
    "\n",
    "#Use arthemetic Operators to swap values of two variables\n",
    "\n",
    "#Hint1: Using addition and subtraction operator\n",
    "#Hint 2:Using multiplication and division operator \n",
    "#I will upload the solution to this problem on my Github\n",
    "\n",
    "#****************************Follow Me***********************#\n",
    "\n",
    "#******https://www.youtube.com/channel/UCDjhZqUukWedbSbl0stU2Gg*****#\n",
    "\n",
    "#******My LinkedIn Page: https://www.linkedin.com/in/zaibhamid/*******#"
   ]
  }
 ],
 "metadata": {
  "kernelspec": {
   "display_name": "Python 3 (ipykernel)",
   "language": "python",
   "name": "python3"
  },
  "language_info": {
   "codemirror_mode": {
    "name": "ipython",
    "version": 3
   },
   "file_extension": ".py",
   "mimetype": "text/x-python",
   "name": "python",
   "nbconvert_exporter": "python",
   "pygments_lexer": "ipython3",
   "version": "3.10.4"
  }
 },
 "nbformat": 4,
 "nbformat_minor": 2
}
