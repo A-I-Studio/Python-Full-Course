{
 "cells": [
  {
   "cell_type": "markdown",
   "id": "57cd00f1",
   "metadata": {},
   "source": [
    "<h1 align=\"center\">Function in Python</h1>\n",
    "<h2 align=\"center\">Hello everyone, Welcome to AI Studio by Shahzaib</h2> \n",
    "\n",
    "<h3>In this tutorial we will be working on</h3>\n",
    "\n",
    "<h1>Python Functions</h1>"
   ]
  },
  {
   "cell_type": "markdown",
   "id": "0d83314f",
   "metadata": {},
   "source": [
    "Python Functions is a block of statements which return the specific task.\n",
    "The idea is to put some commonly or repeatedly done tasks together and make a function so that instead of writing the same code again and again for different inputs, we can do the function calls to reuse code contained in it over and over again"
   ]
  },
  {
   "cell_type": "markdown",
   "id": "7cd45bac",
   "metadata": {},
   "source": [
    "# 1-Creating a Python Function\n",
    "We can create a  Python function using the def keyword.\n"
   ]
  },
  {
   "cell_type": "markdown",
   "id": "5e874c62",
   "metadata": {},
   "source": [
    "# 2-Overview of Python Functions\n",
    "![51](51.png)"
   ]
  },
  {
   "cell_type": "markdown",
   "id": "4e8f8e5c",
   "metadata": {},
   "source": [
    "# 3-Creating a Python Function\n",
    "We can create a  Python function using the def keyword."
   ]
  },
  {
   "cell_type": "code",
   "execution_count": 37,
   "id": "cda35ea8",
   "metadata": {},
   "outputs": [],
   "source": [
    "# A simple Python function\n",
    " \n",
    "def function():\n",
    "    print(\"Welcome to AI-Studio by Shahzaib\")"
   ]
  },
  {
   "cell_type": "markdown",
   "id": "7537bd43",
   "metadata": {},
   "source": [
    "# 4-Calling a  Python Function\n",
    "After creating a function we can call it by using the name of the function followed by parenthesis containing parameters of that particular function."
   ]
  },
  {
   "cell_type": "code",
   "execution_count": 38,
   "id": "2a1f7a94",
   "metadata": {},
   "outputs": [
    {
     "name": "stdout",
     "output_type": "stream",
     "text": [
      "Welcome to AI-Studio by Shahzaib\n"
     ]
    }
   ],
   "source": [
    "# A simple Python function\n",
    " \n",
    "def function():\n",
    "    print(\"Welcome to AI-Studio by Shahzaib\")\n",
    "function()"
   ]
  },
  {
   "cell_type": "markdown",
   "id": "0277e97a",
   "metadata": {},
   "source": [
    "# 5-Defining and calling a function with parameters\n",
    "If you have experience in C/C++ or Java then you must be thinking about the return type of the function and data type of arguments. That is possible in Python as well (specifically for Python 3.5 and above).\n",
    "\n",
    "**Python Function with parameters Syntax:**\n",
    "\n",
    " def function_name(parameter: data_type) -> return_type:\n",
    "    \"\"\"Doctring\"\"\"\n",
    "    # body of the function\n",
    "    return expression\n",
    "    \n",
    "The following example uses arguments that you will learn later in this article so you can come back on it again if not understood. It is defined here for people with prior experience in languages like C/C++ or Java."
   ]
  },
  {
   "cell_type": "code",
   "execution_count": 39,
   "id": "4dc727c6",
   "metadata": {},
   "outputs": [
    {
     "name": "stdout",
     "output_type": "stream",
     "text": [
      "The substraction of 15 and 10 results 5.\n"
     ]
    }
   ],
   "source": [
    "def sub(num1: int, num2: int) -> int:\n",
    "    \"\"\"Add two numbers\"\"\"\n",
    "    num3 = num1 - num2\n",
    " \n",
    "    return num3\n",
    " \n",
    "# Driver code\n",
    "num1, num2 = 15, 10\n",
    "ans = sub(num1, num2)\n",
    "print(f\"The substraction of {num1} and {num2} results {ans}.\")"
   ]
  },
  {
   "cell_type": "markdown",
   "id": "bd2a05ef",
   "metadata": {},
   "source": [
    "Some more examples are as follows:"
   ]
  },
  {
   "cell_type": "code",
   "execution_count": 40,
   "id": "152f84fb",
   "metadata": {},
   "outputs": [
    {
     "name": "stdout",
     "output_type": "stream",
     "text": [
      "False\n"
     ]
    }
   ],
   "source": [
    "# some more functions\n",
    "def is_prime(number):\n",
    "    if number in [2, 3]:\n",
    "        return True\n",
    "    if number % 2 == 0:\n",
    "        return False\n",
    "    r = 3\n",
    "    while r * r <= number:\n",
    "        if number % r == 0:\n",
    "            return False\n",
    "        r += 2\n",
    "        return True\n",
    "print(is_prime(78))\n"
   ]
  },
  {
   "cell_type": "markdown",
   "id": "701d734b",
   "metadata": {},
   "source": [
    "# 6-Arguments of a Python Function\n",
    "Arguments are the values passed inside the parenthesis of the function. A function can have any number of arguments separated by a comma.\n",
    "\n",
    "In this example, we will create a simple function to check whether the number passed as an argument to the function is even or odd."
   ]
  },
  {
   "cell_type": "code",
   "execution_count": 41,
   "id": "3554c78f",
   "metadata": {},
   "outputs": [
    {
     "name": "stdout",
     "output_type": "stream",
     "text": [
      "even\n",
      "odd\n"
     ]
    }
   ],
   "source": [
    "\n",
    "# A simple Python function to check\n",
    "# whether x is even or odd\n",
    " \n",
    "\n",
    "def evenOdd(x):\n",
    "    if (x % 2 == 0):\n",
    "        print(\"even\")\n",
    "    else:\n",
    "        print(\"odd\")\n",
    " \n",
    " \n",
    "# Driver code to call the function\n",
    "evenOdd(2)\n",
    "evenOdd(3)"
   ]
  },
  {
   "cell_type": "markdown",
   "id": "a27dd840",
   "metadata": {},
   "source": [
    "# 7-Types of Arguments\n",
    "Python supports various types of arguments that can be passed at the time of the function call. Let’s discuss each type in detail.\n",
    "\n",
    "**Default arguments**\n",
    "\n",
    "A default argument is a parameter that assumes a default value if a value is not provided in the function call for that argument. The following example illustrates Default arguments. \n",
    "\n"
   ]
  },
  {
   "cell_type": "code",
   "execution_count": 42,
   "id": "7ea29d24",
   "metadata": {},
   "outputs": [
    {
     "name": "stdout",
     "output_type": "stream",
     "text": [
      "x:  10\n",
      "y:  50\n"
     ]
    }
   ],
   "source": [
    "\n",
    "# Python program to demonstrate\n",
    "# default arguments\n",
    " \n",
    "    \n",
    "def myFun(x, y=50):\n",
    "    print(\"x: \", x)\n",
    "    print(\"y: \", y)\n",
    " \n",
    " \n",
    "# Driver code (We call myFun() with only\n",
    "# argument)\n",
    "myFun(10)"
   ]
  },
  {
   "cell_type": "markdown",
   "id": "6997796e",
   "metadata": {},
   "source": [
    "**Keyword arguments**\n",
    "The idea is to allow the caller to specify the argument name with values so that caller does not need to remember the order of parameters."
   ]
  },
  {
   "cell_type": "code",
   "execution_count": 43,
   "id": "3e3eb7b9",
   "metadata": {},
   "outputs": [
    {
     "name": "stdout",
     "output_type": "stream",
     "text": [
      "Geeks Practice\n",
      "Geeks Practice\n"
     ]
    }
   ],
   "source": [
    "# Python program to demonstrate Keyword Arguments\n",
    "def student(firstname, lastname):\n",
    "    print(firstname, lastname)\n",
    " \n",
    " \n",
    "# Keyword arguments\n",
    "student(firstname='Geeks', lastname='Practice')\n",
    "student(lastname='Practice', firstname='Geeks')"
   ]
  },
  {
   "cell_type": "markdown",
   "id": "3504669f",
   "metadata": {},
   "source": [
    "**Variable-length arguments**\n",
    "\n",
    "In Python, we can pass a variable number of arguments to a function using special symbols. There are two special symbols:\n",
    "\n",
    "1-args (Non-Keyword Arguments)\n",
    "2-kwargs (Keyword Arguments)"
   ]
  },
  {
   "cell_type": "markdown",
   "id": "2f4d058a",
   "metadata": {},
   "source": [
    "**Example 1: Variable length non-keywords argument**"
   ]
  },
  {
   "cell_type": "code",
   "execution_count": 44,
   "id": "1955d03c",
   "metadata": {},
   "outputs": [
    {
     "name": "stdout",
     "output_type": "stream",
     "text": [
      "Hello\n",
      "Welcome\n",
      "to\n",
      "AI Studio by Shahzaib\n"
     ]
    }
   ],
   "source": [
    "# Python program to illustrate\n",
    "# *args for variable number of arguments\n",
    " \n",
    "\n",
    "def myFun(*argv):\n",
    "    for arg in argv:\n",
    "        print(arg)\n",
    " \n",
    " \n",
    "myFun('Hello', 'Welcome', 'to', 'AI Studio by Shahzaib')"
   ]
  },
  {
   "cell_type": "markdown",
   "id": "0b740153",
   "metadata": {},
   "source": [
    "**Example 2: Variable length keyword arguments**"
   ]
  },
  {
   "cell_type": "code",
   "execution_count": 45,
   "id": "3054260e",
   "metadata": {},
   "outputs": [
    {
     "name": "stdout",
     "output_type": "stream",
     "text": [
      "first == AI-Studio\n",
      "mid == by\n",
      "last == Shahzaib\n"
     ]
    }
   ],
   "source": [
    "\n",
    "# Python program to illustrate\n",
    "# *kwargs for variable number of keyword arguments\n",
    " \n",
    "def myFun(**kwargs):\n",
    "    for key, value in kwargs.items():\n",
    "        print(\"%s == %s\" % (key, value))\n",
    " \n",
    " \n",
    "# Driver code\n",
    "myFun(first='AI-Studio', mid='by', last='Shahzaib')"
   ]
  },
  {
   "cell_type": "markdown",
   "id": "b4b1b7c6",
   "metadata": {},
   "source": [
    "**Docstring**\n",
    "\n",
    "The first string after the function is called the Document string or Docstring in short. This is used to describe the functionality of the function. The use of docstring in functions is optional but it is considered a good practice.\n",
    "\n",
    "**Example: Adding Docstring to the function**\n",
    "\n"
   ]
  },
  {
   "cell_type": "code",
   "execution_count": 46,
   "id": "e094f635",
   "metadata": {},
   "outputs": [
    {
     "name": "stdout",
     "output_type": "stream",
     "text": [
      "Function to check if the number is even or odd\n"
     ]
    }
   ],
   "source": [
    "#A simple Python function to check\n",
    "#whether x is even or odd\n",
    " \n",
    "def evenOdd(x):\n",
    "    \"\"\"Function to check if the number is even or odd\"\"\"\n",
    "     \n",
    "    if (x % 2 == 0):\n",
    "        print(\"even\")\n",
    "    else:\n",
    "        print(\"odd\")\n",
    " \n",
    " \n",
    "#Driver code to call the function\n",
    "print(evenOdd.__doc__)"
   ]
  },
  {
   "cell_type": "markdown",
   "id": "c3c11b0d",
   "metadata": {},
   "source": [
    "# 8-Return statement in Python function\n",
    "The function return statement is used to exit from a function and go back to the function caller and return the specified value or data item to the caller. \n",
    "\n",
    "The return statement can consist of a variable, an expression, or a constant which is returned to the end of the function execution. If none of the above is present with the return statement a None object is returned.\n",
    "\n",
    "**Example: Python Function Return Statement**"
   ]
  },
  {
   "cell_type": "code",
   "execution_count": 47,
   "id": "de870888",
   "metadata": {},
   "outputs": [
    {
     "name": "stdout",
     "output_type": "stream",
     "text": [
      "4\n",
      "16\n"
     ]
    }
   ],
   "source": [
    "def square_value(num):\n",
    "    \"\"\"This function returns the square\n",
    "    value of the entered number\"\"\"\n",
    "    return num**2\n",
    " \n",
    " \n",
    "print(square_value(2))\n",
    "print(square_value(-4))"
   ]
  },
  {
   "cell_type": "markdown",
   "id": "3ac00f27",
   "metadata": {},
   "source": [
    "# 9-Pass by Reference or pass by value\n",
    "One important thing to note is, in Python every variable name is a reference. When we pass a variable to a function, a new reference to the object is created. Parameter passing in Python is the same as reference passing in Java."
   ]
  },
  {
   "cell_type": "code",
   "execution_count": 48,
   "id": "7824ad66",
   "metadata": {},
   "outputs": [
    {
     "name": "stdout",
     "output_type": "stream",
     "text": [
      "[20, 11, 12, 13, 14, 15]\n"
     ]
    }
   ],
   "source": [
    "# Here x is a new reference to same list lst\n",
    "def myFun(x):\n",
    "    x[0] = 20\n",
    " \n",
    " \n",
    "# Driver Code (Note that lst is modified\n",
    "# after function call.\n",
    "lst = [10, 11, 12, 13, 14, 15]\n",
    "myFun(lst)\n",
    "print(lst)"
   ]
  },
  {
   "cell_type": "markdown",
   "id": "f8c9547f",
   "metadata": {},
   "source": [
    "When we pass a reference and change the received reference to something else, the connection between the passed and received parameter is broken. For example, consider the below program as follows:"
   ]
  },
  {
   "cell_type": "code",
   "execution_count": 49,
   "id": "db5fa25f",
   "metadata": {},
   "outputs": [
    {
     "name": "stdout",
     "output_type": "stream",
     "text": [
      "[10, 11, 12, 13, 14, 15]\n"
     ]
    }
   ],
   "source": [
    "def myFun(x):\n",
    " \n",
    "    # After below line link of x with previous\n",
    "    # object gets broken. A new object is assigned\n",
    "    # to x.\n",
    "    x = [20, 30, 40]\n",
    " \n",
    " \n",
    "# Driver Code (Note that lst is not modified\n",
    "# after function call.\n",
    "lst = [10, 11, 12, 13, 14, 15]\n",
    "myFun(lst)\n",
    "print(lst)"
   ]
  },
  {
   "cell_type": "markdown",
   "id": "ed8aa32c",
   "metadata": {},
   "source": [
    "Another example to demonstrate that the reference link is broken if we assign a new value (inside the function). "
   ]
  },
  {
   "cell_type": "code",
   "execution_count": 50,
   "id": "6d25f060",
   "metadata": {},
   "outputs": [
    {
     "name": "stdout",
     "output_type": "stream",
     "text": [
      "10\n"
     ]
    }
   ],
   "source": [
    "def myFun(x):\n",
    " \n",
    "    # After below line link of x with previous\n",
    "    # object gets broken. A new object is assigned\n",
    "    # to x.\n",
    "    x = 20\n",
    " \n",
    " \n",
    "# Driver Code (Note that lst is not modified\n",
    "# after function call.\n",
    "x = 10\n",
    "myFun(x)\n",
    "print(x)"
   ]
  },
  {
   "cell_type": "markdown",
   "id": "576b2df8",
   "metadata": {},
   "source": [
    "**Exercise: Try to guess the output of the following code.**\n",
    "\n"
   ]
  },
  {
   "cell_type": "code",
   "execution_count": 51,
   "id": "bfae0f3d",
   "metadata": {},
   "outputs": [
    {
     "name": "stdout",
     "output_type": "stream",
     "text": [
      "2\n",
      "3\n"
     ]
    }
   ],
   "source": [
    "def swap(x, y):\n",
    "    temp = x\n",
    "    x = y\n",
    "    y = temp\n",
    " \n",
    " \n",
    "# Driver code\n",
    "x = 2\n",
    "y = 3\n",
    "swap(x, y)\n",
    "print(x)\n",
    "print(y)"
   ]
  },
  {
   "cell_type": "markdown",
   "id": "5a7e6159",
   "metadata": {},
   "source": [
    "# 10-Anonymous functions in Python Function\n",
    "In Python, an anonymous function means that a function is without a name. As we already know the def keyword is used to define the normal functions and the lambda keyword is used to create anonymous functions. Please see this for details."
   ]
  },
  {
   "cell_type": "code",
   "execution_count": 52,
   "id": "6cdca241",
   "metadata": {},
   "outputs": [
    {
     "name": "stdout",
     "output_type": "stream",
     "text": [
      "343\n",
      "343\n"
     ]
    }
   ],
   "source": [
    "# Python code to illustrate the cube of a number\n",
    "# using lambda function\n",
    " \n",
    "\n",
    "def cube(x): return x*x*x\n",
    " \n",
    "cube_v2 = lambda x : x*x*x\n",
    " \n",
    "print(cube(7))\n",
    "print(cube_v2(7))"
   ]
  },
  {
   "cell_type": "markdown",
   "id": "c44f704c",
   "metadata": {},
   "source": [
    "# 11-Python Function within Functions\n",
    "A function that is defined inside another function is known as the inner function or nested function. Nested functions are able to access variables of the enclosing scope. Inner functions are used so that they can be protected from everything happening outside the function.\n",
    "\n"
   ]
  },
  {
   "cell_type": "code",
   "execution_count": 53,
   "id": "2f25552a",
   "metadata": {},
   "outputs": [
    {
     "name": "stdout",
     "output_type": "stream",
     "text": [
      "I love AI-Studio by Shahzaib\n"
     ]
    }
   ],
   "source": [
    "# Python program to\n",
    "# demonstrate accessing of\n",
    "# variables of nested functions\n",
    " \n",
    "def f1():\n",
    "    s = 'I love AI-Studio by Shahzaib'\n",
    "     \n",
    "    def f2():\n",
    "        print(s)\n",
    "         \n",
    "    f2()\n",
    " \n",
    "# Driver's code\n",
    "f1()"
   ]
  }
 ],
 "metadata": {
  "kernelspec": {
   "display_name": "Python 3 (ipykernel)",
   "language": "python",
   "name": "python3"
  },
  "language_info": {
   "codemirror_mode": {
    "name": "ipython",
    "version": 3
   },
   "file_extension": ".py",
   "mimetype": "text/x-python",
   "name": "python",
   "nbconvert_exporter": "python",
   "pygments_lexer": "ipython3",
   "version": "3.9.12"
  }
 },
 "nbformat": 4,
 "nbformat_minor": 5
}
