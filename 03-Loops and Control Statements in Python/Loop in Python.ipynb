{
 "cells": [
  {
   "attachments": {},
   "cell_type": "markdown",
   "id": "aa5716d5",
   "metadata": {},
   "source": [
    "<h1 align=\"center\">Loops in Python</h1>\n",
    "<h2 align=\"center\">Hello everyone, Welcome to AI Studio by Shahzaib</h2> \n",
    "\n",
    "<h3>In this tutorial we will be working on</h3>\n",
    "\n",
    "<h3>Part-1: Overview of Loop</h3>\n",
    "\n",
    "<h3>Part-2: Topics to be covered</h3>\n",
    "1- While Loop in Python <br>\n",
    "2- For Loop in Python <br>\n",
    "3- Nested Loop in Python <br>\n",
    "\n",
    "<h3>Part-3: Topics to be covered</h3>\n",
    "1- Break Statement <br>\n",
    "2- Continue Statement <br>\n",
    "3- Pass Statement\n",
    "\n",
    "\n"
   ]
  },
  {
   "cell_type": "markdown",
   "id": "ae78521f",
   "metadata": {},
   "source": [
    "# Part-1: Overview of Loop\n",
    "![Overview](Overview.jpg)"
   ]
  },
  {
   "cell_type": "markdown",
   "id": "a91bd64b",
   "metadata": {},
   "source": [
    "# Part-2: Loop Types and Their Implementation in Python"
   ]
  },
  {
   "cell_type": "markdown",
   "id": "61e74dbd",
   "metadata": {},
   "source": [
    "# Topic-1: While Loop in Python\n",
    "**A while loop statement in Python programming language repeatedly executes a target statement as long as a given condition is true.**\n",
    "![b](b.jpg)"
   ]
  },
  {
   "cell_type": "code",
   "execution_count": null,
   "id": "1c0c0a68",
   "metadata": {},
   "outputs": [],
   "source": [
    "#Write a python code, which return the count till 9\n",
    "\n",
    "count = 0\n",
    "while (count < 9):\n",
    "   print ('The coun is',count)\n",
    "   count = count + 1\n",
    "\n",
    "print ('While Loop Terminated')"
   ]
  },
  {
   "cell_type": "code",
   "execution_count": null,
   "id": "e1909689",
   "metadata": {},
   "outputs": [],
   "source": [
    "# checks if list still contains any element\n",
    "a = [1, 2, 3, 4]\n",
    " \n",
    "while a:\n",
    "    print(a.pop())"
   ]
  },
  {
   "cell_type": "markdown",
   "id": "9d11b9ba",
   "metadata": {},
   "source": [
    "# Topic-2: For Loop in Python\n",
    "**It has the ability to iterate over the items of any sequence, such as a list or a string.**\n",
    "![c](c.jpg)"
   ]
  },
  {
   "cell_type": "code",
   "execution_count": null,
   "id": "fb4d3370",
   "metadata": {},
   "outputs": [],
   "source": [
    "#Write a code to present letter breakdown\n",
    "for letter in 'AIStuio by Shahzaib':\n",
    "   print('Current Letter :', letter)"
   ]
  },
  {
   "cell_type": "code",
   "execution_count": null,
   "id": "db74bc84",
   "metadata": {},
   "outputs": [],
   "source": [
    "#For Loop on Strings in Python\n",
    "fruits = ['banana', 'apple',  'mango']\n",
    "for fruit in fruits:      \n",
    "   print ('Current fruit :', fruit)\n",
    "\n",
    "print ('Loop Terminated')"
   ]
  },
  {
   "cell_type": "code",
   "execution_count": null,
   "id": "c1dc9832",
   "metadata": {},
   "outputs": [],
   "source": [
    "#Range Function in Python withh for loop\n",
    "fruits = ['Google', 'AWS',  'IBM']\n",
    "\n",
    "for index in range(len(fruits)):\n",
    "   print ('Current fruit :', fruits[index])\n",
    "\n",
    "print ('Loop Terminated')"
   ]
  },
  {
   "cell_type": "markdown",
   "id": "1c05957b",
   "metadata": {},
   "source": [
    "# Topic-3: Nested Loop in Python\n",
    "Python programming language allows to use one loop inside another loop. Following section shows few examples to illustrate the concept."
   ]
  },
  {
   "cell_type": "code",
   "execution_count": null,
   "id": "09a28de9",
   "metadata": {},
   "outputs": [],
   "source": [
    "#Python Code for Nested Loop in Python to detect prime numbers less 50\n",
    "i = 2\n",
    "while(i < 50):\n",
    "   j = 2\n",
    "   while(j <= (i/j)):\n",
    "      if not(i%j): break\n",
    "      j = j + 1\n",
    "   if (j > i/j) : print(i, \" is prime\")\n",
    "   i = i + 1\n",
    "\n",
    "print('Loop Terminated')"
   ]
  },
  {
   "cell_type": "code",
   "execution_count": null,
   "id": "56cff56c",
   "metadata": {},
   "outputs": [],
   "source": [
    "#if-else condition with nested loops\n",
    "number=int(input('Enter Any Number'))\n",
    "for num in range(1,number):     #to iterate between 10 to 20\n",
    "   for i in range(2,num):    #to iterate on the factors of the number\n",
    "      if num%i == 0:         #to determine the first factor\n",
    "         j=num/i             #to calculate the second factor\n",
    "         print ('%d equals %d * %d' % (num,i,j))\n",
    "   else:                  # else part of the loop\n",
    "      print (num, 'is a prime number')\n",
    "print('Loop Terminated')\n"
   ]
  },
  {
   "cell_type": "markdown",
   "id": "fc197d69",
   "metadata": {},
   "source": [
    "# Part-2: Loop Control Statements\n",
    "**Loop control statements change execution from its normal sequence. When execution leaves a scope, all automatic objects that were created in that scope are destroyed.\n",
    "Python supports the following control statements**\n",
    "\n",
    "1- Break Statement <br>\n",
    "2- Continue Statement <br>\n",
    "3- Pass Statement"
   ]
  },
  {
   "cell_type": "markdown",
   "id": "0c5a46ad",
   "metadata": {},
   "source": [
    "# Topic-1: Break Statement\n",
    "**It terminates the current loop and resumes execution at the next statement.** \n",
    "\n",
    "**The most common use for break is when some external condition is triggered requiring a hasty exit from a loop. The break statement can be used in both while and for loops.**\n",
    "\n",
    "**If you are using nested loops, the break statement stops the execution of the innermost loop and start executing the next line of code after the block.**\n",
    "\n",
    "**Structure**\n",
    "![e](e.jpg)"
   ]
  },
  {
   "cell_type": "code",
   "execution_count": null,
   "id": "caa7b3b4",
   "metadata": {},
   "outputs": [],
   "source": [
    "for letter in 'AI_Studio': \n",
    "   if letter == 'o':\n",
    "      break\n",
    "   print ('Current Letter :', letter)"
   ]
  },
  {
   "cell_type": "code",
   "execution_count": null,
   "id": "dc81a4a4",
   "metadata": {},
   "outputs": [],
   "source": [
    "var = int(input('Enter any number'))\n",
    "while var > 0:              \n",
    "   print ('Current variable value :', var)\n",
    "   var = var -1\n",
    "   if var == 5:\n",
    "      break\n",
    "\n",
    "print ('Loop Terminated when value reached to 5' )"
   ]
  },
  {
   "cell_type": "markdown",
   "id": "2c5c38bc",
   "metadata": {},
   "source": [
    "# Topic-2: Continue Statement\n",
    "**It returns the control to the beginning of the while loop.. The continue statement rejects all the remaining statements in the current iteration of the loop and moves the control back to the top of the loop.**\n",
    "\n",
    "**Structure**\n",
    "![d](d.jpg)"
   ]
  },
  {
   "cell_type": "code",
   "execution_count": null,
   "id": "86026c73",
   "metadata": {},
   "outputs": [],
   "source": [
    "for letter in 'AI_Studio':     # First Example\n",
    "   if letter == 'o':\n",
    "      continue\n",
    "   print ('Current Letter :', letter)\n",
    "\n"
   ]
  },
  {
   "cell_type": "code",
   "execution_count": null,
   "id": "54d29484",
   "metadata": {},
   "outputs": [],
   "source": [
    "var = 10                    # Second Example\n",
    "while var > 0:              \n",
    "   var = var -1\n",
    "   if var == 5:\n",
    "      continue\n",
    "   print ('Current variable value :', var)\n",
    "print ('Loop Terminated')"
   ]
  },
  {
   "cell_type": "markdown",
   "id": "2144f014",
   "metadata": {},
   "source": [
    "# Topic-3: Pass Statement in Python\n",
    "**t is used when a statement is required syntactically but you do not want any command or code to execute.\n",
    "\n",
    "The pass statement is a null operation; nothing happens when it executes\n"
   ]
  },
  {
   "cell_type": "code",
   "execution_count": null,
   "id": "ddd4ff67",
   "metadata": {},
   "outputs": [],
   "source": [
    "for letter in 'AI_Stduio': \n",
    "   if letter == 'o':\n",
    "      pass\n",
    "      print ('This is pass block')\n",
    "   print('Current Letter :', letter)\n",
    "\n",
    "print ('Loop Terminated')"
   ]
  },
  {
   "cell_type": "markdown",
   "id": "6b983ea5",
   "metadata": {},
   "source": [
    "# Thankyou for Watching"
   ]
  },
  {
   "cell_type": "markdown",
   "id": "b005aa91",
   "metadata": {},
   "source": [
    "# Don't Forget to Subscribe to our Channel"
   ]
  }
 ],
 "metadata": {
  "kernelspec": {
   "display_name": "Python 3 (ipykernel)",
   "language": "python",
   "name": "python3"
  },
  "language_info": {
   "codemirror_mode": {
    "name": "ipython",
    "version": 3
   },
   "file_extension": ".py",
   "mimetype": "text/x-python",
   "name": "python",
   "nbconvert_exporter": "python",
   "pygments_lexer": "ipython3",
   "version": "3.9.12"
  }
 },
 "nbformat": 4,
 "nbformat_minor": 5
}
